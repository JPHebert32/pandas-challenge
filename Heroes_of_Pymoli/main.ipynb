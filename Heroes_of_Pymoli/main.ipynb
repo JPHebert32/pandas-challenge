{
 "cells": [
  {
   "cell_type": "code",
   "execution_count": 13,
   "metadata": {
    "scrolled": true
   },
   "outputs": [],
   "source": [
    "# Dependencies and Setup\n",
    "import pandas as pd\n"
   ]
  },
  {
   "cell_type": "code",
   "execution_count": 14,
   "metadata": {},
   "outputs": [],
   "source": [
    "# File to Load (Remember to Change These)\n",
    "file_to_load = \"C:/Users/JPHeb/JPH-Data-Class/pandas-challenge/Heroes_of_Pymoli/Resources/purchase_data.csv\""
   ]
  },
  {
   "cell_type": "code",
   "execution_count": 15,
   "metadata": {},
   "outputs": [],
   "source": [
    "# Read Purchasing File and store into Pandas data frame\n",
    "Purchase_Data_df = pd.read_csv(file_to_load)"
   ]
  },
  {
   "cell_type": "code",
   "execution_count": 16,
   "metadata": {},
   "outputs": [],
   "source": [
    "# Display Purchase_Data_df\n",
    "#Purchase_Data_df.head\n",
    "# iterating the columns \n",
    "#for col in purchase_data_df.columns: \n",
    "    #print(col)"
   ]
  },
  {
   "cell_type": "code",
   "execution_count": 17,
   "metadata": {},
   "outputs": [
    {
     "data": {
      "text/html": [
       "<div>\n",
       "<style scoped>\n",
       "    .dataframe tbody tr th:only-of-type {\n",
       "        vertical-align: middle;\n",
       "    }\n",
       "\n",
       "    .dataframe tbody tr th {\n",
       "        vertical-align: top;\n",
       "    }\n",
       "\n",
       "    .dataframe thead th {\n",
       "        text-align: right;\n",
       "    }\n",
       "</style>\n",
       "<table border=\"1\" class=\"dataframe\">\n",
       "  <thead>\n",
       "    <tr style=\"text-align: right;\">\n",
       "      <th></th>\n",
       "      <th>Total Players</th>\n",
       "    </tr>\n",
       "  </thead>\n",
       "  <tbody>\n",
       "    <tr>\n",
       "      <td>0</td>\n",
       "      <td>576</td>\n",
       "    </tr>\n",
       "  </tbody>\n",
       "</table>\n",
       "</div>"
      ],
      "text/plain": [
       "   Total Players\n",
       "0            576"
      ]
     },
     "execution_count": 17,
     "metadata": {},
     "output_type": "execute_result"
    }
   ],
   "source": [
    "#Player Count\n",
    "    #Display the total number of players\n",
    "#################################################################################\n",
    "\n",
    "# The unique method shows every element of the series that appears only once\n",
    "unique = Purchase_Data_df[\"SN\"].unique()\n",
    "#unique\n",
    "players_count = len(unique)\n",
    "#print(players_count) \"576\"\n",
    "\n",
    "# initialize list of lists \n",
    "total_players = {'Total Players':[players_count]}\n",
    "#print(total_players) #{'Total Players': [576]}\n",
    "# Create the pandas DataFrame \n",
    "Total_Players_df = pd.DataFrame(total_players)\n",
    "Total_Players_df"
   ]
  },
  {
   "cell_type": "code",
   "execution_count": 18,
   "metadata": {},
   "outputs": [
    {
     "ename": "NameError",
     "evalue": "name 'purchase_data_df' is not defined",
     "output_type": "error",
     "traceback": [
      "\u001b[1;31m---------------------------------------------------------------------------\u001b[0m",
      "\u001b[1;31mNameError\u001b[0m                                 Traceback (most recent call last)",
      "\u001b[1;32m<ipython-input-18-59dfb1f5b709>\u001b[0m in \u001b[0;36m<module>\u001b[1;34m\u001b[0m\n\u001b[0;32m      7\u001b[0m \u001b[1;33m\u001b[0m\u001b[0m\n\u001b[0;32m      8\u001b[0m \u001b[1;31m# Number of Unique Items\u001b[0m\u001b[1;33m\u001b[0m\u001b[1;33m\u001b[0m\u001b[1;33m\u001b[0m\u001b[0m\n\u001b[1;32m----> 9\u001b[1;33m \u001b[0mItem\u001b[0m \u001b[1;33m=\u001b[0m \u001b[0mpurchase_data_df\u001b[0m\u001b[1;33m[\u001b[0m\u001b[1;34m\"Item ID\"\u001b[0m\u001b[1;33m]\u001b[0m\u001b[1;33m.\u001b[0m\u001b[0munique\u001b[0m\u001b[1;33m(\u001b[0m\u001b[1;33m)\u001b[0m\u001b[1;33m\u001b[0m\u001b[1;33m\u001b[0m\u001b[0m\n\u001b[0m\u001b[0;32m     10\u001b[0m \u001b[0mItem_count\u001b[0m \u001b[1;33m=\u001b[0m \u001b[0mlen\u001b[0m\u001b[1;33m(\u001b[0m\u001b[0mItem\u001b[0m\u001b[1;33m)\u001b[0m\u001b[1;33m\u001b[0m\u001b[1;33m\u001b[0m\u001b[0m\n\u001b[0;32m     11\u001b[0m \u001b[1;31m#print(Item_count)\u001b[0m\u001b[1;33m\u001b[0m\u001b[1;33m\u001b[0m\u001b[1;33m\u001b[0m\u001b[0m\n",
      "\u001b[1;31mNameError\u001b[0m: name 'purchase_data_df' is not defined"
     ]
    }
   ],
   "source": [
    "#Purchasing Analysis (Total)\n",
    "    # Run basic calculations to obtain number of unique items, average price, etc.\n",
    "    # Create a summary data frame to hold the results\n",
    "        # Optional: give the displayed data cleaner formatting\n",
    "        # Display the summary data frame\n",
    "#################################################################################\n",
    "\n",
    "# Number of Unique Items\n",
    "Item = purchase_data_df[\"Item ID\"].unique()\n",
    "Item_count = len(Item)\n",
    "#print(Item_count)\n",
    "\n",
    "# Average Purchase Price\n",
    "Avg_Pur_Price = purchase_data_df[\"Price\"].mean()\n",
    "#print(Avg_Pur_Price)\n",
    "\n",
    "# Total Number of Purchases\n",
    "Num_Purchases = purchase_data_df[\"Purchase ID\"].unique()\n",
    "#print(Num_Purchases)\n",
    "Total_Num_Purchases = len(Num_Purchases)\n",
    "#print(Total_Num_Purchases)\n",
    "\n",
    "# Total Revenue\n",
    "total = purchase_data_df[\"Price\"].sum()\n",
    "#total\n",
    "\n",
    "# Initialize Dictionary of lists\n",
    "purchase_analysis = {'Total Revenue': [total],\n",
    "                     'Total Number of Purchases':[Total_Num_Purchases],\n",
    "                     'Average Purchase Price':[Avg_Pur_Price],\n",
    "                     'Number of Unique Item': [Item_count]}\n",
    "\n",
    "# Create the Purchasing_Analysis DataFrame\n",
    "Purchase_Analysis_df = pd.DataFrame(purchase_analysis)\n",
    "#Format Average Purchase Price & Total Revenue\n",
    "Purchase_Analysis_df['Average Purchase Price'] = Purchase_Analysis_df['Average Purchase Price'].map(\"${:,.2f}\".format)\n",
    "Purchase_Analysis_df['Total Revenue'] = Purchase_Analysis_df['Total Revenue'].map(\"${:,.2f}\".format)\n",
    "Purchase_Analysis_df\n"
   ]
  },
  {
   "cell_type": "code",
   "execution_count": 19,
   "metadata": {},
   "outputs": [
    {
     "ename": "NameError",
     "evalue": "name 'dropped_username' is not defined",
     "output_type": "error",
     "traceback": [
      "\u001b[1;31m---------------------------------------------------------------------------\u001b[0m",
      "\u001b[1;31mNameError\u001b[0m                                 Traceback (most recent call last)",
      "\u001b[1;32m<ipython-input-19-bc17f5b17e21>\u001b[0m in \u001b[0;36m<module>\u001b[1;34m\u001b[0m\n\u001b[0;32m     12\u001b[0m \u001b[1;33m\u001b[0m\u001b[0m\n\u001b[0;32m     13\u001b[0m \u001b[1;31m# Count Genders  with .value_count\u001b[0m\u001b[1;33m\u001b[0m\u001b[1;33m\u001b[0m\u001b[1;33m\u001b[0m\u001b[0m\n\u001b[1;32m---> 14\u001b[1;33m \u001b[0mgender_count\u001b[0m \u001b[1;33m=\u001b[0m \u001b[0mdropped_username\u001b[0m\u001b[1;33m[\u001b[0m\u001b[1;34m\"Gender\"\u001b[0m\u001b[1;33m]\u001b[0m\u001b[1;33m.\u001b[0m\u001b[0mvalue_counts\u001b[0m\u001b[1;33m(\u001b[0m\u001b[1;33m)\u001b[0m\u001b[1;33m\u001b[0m\u001b[1;33m\u001b[0m\u001b[0m\n\u001b[0m\u001b[0;32m     15\u001b[0m \u001b[1;31m#Gender_count   #Male                     484\u001b[0m\u001b[1;33m\u001b[0m\u001b[1;33m\u001b[0m\u001b[1;33m\u001b[0m\u001b[0m\n\u001b[0;32m     16\u001b[0m                 \u001b[1;31m#Female                    81\u001b[0m\u001b[1;33m\u001b[0m\u001b[1;33m\u001b[0m\u001b[1;33m\u001b[0m\u001b[0m\n",
      "\u001b[1;31mNameError\u001b[0m: name 'dropped_username' is not defined"
     ]
    }
   ],
   "source": [
    "# Gender Demographics DataFrame\n",
    "    # Percentage and Count of Male Players\n",
    "    # Percentage and Count of Female Players\n",
    "    # Percentage and Count of Other / Non-DisclosedGender_Analysis\n",
    "#################################################################################\n",
    "#Purchase_Data_df2\n",
    "Purchase_Data_df2 = Purchase_Data_df.loc[:, [\"Gender\", \"SN\", \"Age\"]]\n",
    "\n",
    "#Drop Duplicates\n",
    "dropped_SN = Purchase_Data_df2.drop_duplicates()\n",
    "#dropped_SN #576 rows × 3 columns\n",
    "\n",
    "# Count Genders  with .value_count\n",
    "gender_count = dropped_username[\"Gender\"].value_counts()\n",
    "#Gender_count   #Male                     484\n",
    "                #Female                    81\n",
    "                #Other / Non-Disclosed     11\n",
    "\n",
    "# Create the Gender Demogrphics DataFrame\n",
    "Gender_Demogrphics_df = pd.DataFrame(Gender_count)\n",
    "\n",
    "# Calculate gender percents\n",
    "gender_percent = Gender_Demogrphics_df[\"Gender\"] / int(players_count) * 100\n",
    "#print(gender_percent)  #Male                     84.027778\n",
    "                        #Female                   14.062500\n",
    "                        #Other / Non-Disclosed     1.909722\n",
    "\n",
    "# add Gender% to Gender_Demogrphics_df\n",
    "Gender_Demogrphics_df[\"Percentage of Players\"] = gender_percent\n",
    "# Format Percentage of Players to 00.00%\n",
    "Gender_Demogrphics_df['Percentage of Players'] = Gender_Demogrphics_df['Percentage of Players'].map(\"{:.2f}%\".format)\n",
    "\n",
    "#Show Data Frame\n",
    "Gender_Demogrphics_df   "
   ]
  },
  {
   "cell_type": "code",
   "execution_count": 20,
   "metadata": {},
   "outputs": [
    {
     "ename": "NameError",
     "evalue": "name 'Gender_Demogrphics_df' is not defined",
     "output_type": "error",
     "traceback": [
      "\u001b[1;31m---------------------------------------------------------------------------\u001b[0m",
      "\u001b[1;31mNameError\u001b[0m                                 Traceback (most recent call last)",
      "\u001b[1;32m<ipython-input-20-a7bf2efa28ee>\u001b[0m in \u001b[0;36m<module>\u001b[1;34m\u001b[0m\n\u001b[0;32m     12\u001b[0m \u001b[0mgrouped_gender_pur_id\u001b[0m \u001b[1;33m=\u001b[0m \u001b[0mPurchase_Data_df\u001b[0m\u001b[1;33m.\u001b[0m\u001b[0mgroupby\u001b[0m\u001b[1;33m(\u001b[0m\u001b[1;33m[\u001b[0m\u001b[1;34m\"Gender\"\u001b[0m\u001b[1;33m]\u001b[0m\u001b[1;33m)\u001b[0m\u001b[1;33m.\u001b[0m\u001b[0mcount\u001b[0m\u001b[1;33m(\u001b[0m\u001b[1;33m)\u001b[0m\u001b[1;33m[\u001b[0m\u001b[1;34m\"Purchase ID\"\u001b[0m\u001b[1;33m]\u001b[0m\u001b[1;33m.\u001b[0m\u001b[0mrename\u001b[0m\u001b[1;33m(\u001b[0m\u001b[1;34m\"Purchase Count\"\u001b[0m\u001b[1;33m)\u001b[0m\u001b[1;33m\u001b[0m\u001b[1;33m\u001b[0m\u001b[0m\n\u001b[0;32m     13\u001b[0m \u001b[0mgrouped_gender_total_price\u001b[0m \u001b[1;33m=\u001b[0m \u001b[0mPurchase_Data_df\u001b[0m\u001b[1;33m.\u001b[0m\u001b[0mgroupby\u001b[0m\u001b[1;33m(\u001b[0m\u001b[1;33m[\u001b[0m\u001b[1;34m\"Gender\"\u001b[0m\u001b[1;33m]\u001b[0m\u001b[1;33m)\u001b[0m\u001b[1;33m.\u001b[0m\u001b[0msum\u001b[0m\u001b[1;33m(\u001b[0m\u001b[1;33m)\u001b[0m\u001b[1;33m[\u001b[0m\u001b[1;34m\"Price\"\u001b[0m\u001b[1;33m]\u001b[0m\u001b[1;33m.\u001b[0m\u001b[0mrename\u001b[0m\u001b[1;33m(\u001b[0m\u001b[1;34m\"Total Purchase Value\"\u001b[0m\u001b[1;33m)\u001b[0m\u001b[1;33m\u001b[0m\u001b[1;33m\u001b[0m\u001b[0m\n\u001b[1;32m---> 14\u001b[1;33m \u001b[0mtest\u001b[0m \u001b[1;33m=\u001b[0m \u001b[0mgrouped_gender_total_price\u001b[0m \u001b[1;33m/\u001b[0m \u001b[0mGender_Demogrphics_df\u001b[0m\u001b[1;33m[\u001b[0m\u001b[1;34m\"Gender\"\u001b[0m\u001b[1;33m]\u001b[0m\u001b[1;33m\u001b[0m\u001b[1;33m\u001b[0m\u001b[0m\n\u001b[0m\u001b[0;32m     15\u001b[0m \u001b[1;33m\u001b[0m\u001b[0m\n\u001b[0;32m     16\u001b[0m \u001b[1;31m# Initialize Dictionary of lists\u001b[0m\u001b[1;33m\u001b[0m\u001b[1;33m\u001b[0m\u001b[1;33m\u001b[0m\u001b[0m\n",
      "\u001b[1;31mNameError\u001b[0m: name 'Gender_Demogrphics_df' is not defined"
     ]
    }
   ],
   "source": [
    "# Purchasing Analysis by (Gender)\n",
    "    # Run basic calculations to obtain purchase count\n",
    "    # avg. purchase price\n",
    "    # avg. purchase total per person etc. by gender\n",
    "        # Create a summary data frame to hold the results\n",
    "        # Optional: give the displayed data cleaner formatting\n",
    "        # Display the summary data frame\n",
    "#################################################################################\n",
    "\n",
    "# Reference multiple columns within a DataFrame\n",
    "grouped_gender_price = Purchase_Data_df.groupby([\"Gender\"]).mean()[\"Price\"].rename(\"Average Purchase Price\")\n",
    "grouped_gender_pur_id = Purchase_Data_df.groupby([\"Gender\"]).count()[\"Purchase ID\"].rename(\"Purchase Count\")\n",
    "grouped_gender_total_price = Purchase_Data_df.groupby([\"Gender\"]).sum()[\"Price\"].rename(\"Total Purchase Value\")\n",
    "test = grouped_gender_total_price / Gender_Demogrphics_df[\"Gender\"]\n",
    "\n",
    "# Initialize Dictionary of lists\n",
    "Gender_Analysis = {'Purchase Count':grouped_gender_pur_id,\n",
    "                   'Average Purchase Price': grouped_gender_price,                     \n",
    "                     'Total Purchase Value':grouped_gender_total_price,\n",
    "                     'Avg Total Purchase per Person': test}\n",
    "\n",
    "# Create the Gender Demogrphics DataFrame\n",
    "Gender_Analysis_df = pd.DataFrame(Gender_Analysis)\n",
    "\n",
    "# Format data to $1,000.00\n",
    "Gender_Analysis_df['Average Purchase Price'] = Gender_Analysis_df['Average Purchase Price'].map(\"${:,.2f}\".format)\n",
    "Gender_Analysis_df['Total Purchase Value'] = Gender_Analysis_df['Total Purchase Value'].map(\"${:,.2f}\".format)\n",
    "Gender_Analysis_df['Avg Total Purchase per Person'] = Gender_Analysis_df['Avg Total Purchase per Person'].map(\"${:,.2f}\".format)\n",
    "\n",
    "#Show Data Frame\n",
    "Gender_Analysis_df\n"
   ]
  },
  {
   "cell_type": "code",
   "execution_count": 21,
   "metadata": {
    "scrolled": true
   },
   "outputs": [
    {
     "name": "stderr",
     "output_type": "stream",
     "text": [
      "C:\\Users\\JPHeb\\Anaconda3\\lib\\site-packages\\ipykernel_launcher.py:25: SettingWithCopyWarning: \n",
      "A value is trying to be set on a copy of a slice from a DataFrame.\n",
      "Try using .loc[row_indexer,col_indexer] = value instead\n",
      "\n",
      "See the caveats in the documentation: http://pandas.pydata.org/pandas-docs/stable/user_guide/indexing.html#returning-a-view-versus-a-copy\n"
     ]
    },
    {
     "data": {
      "text/html": [
       "<div>\n",
       "<style scoped>\n",
       "    .dataframe tbody tr th:only-of-type {\n",
       "        vertical-align: middle;\n",
       "    }\n",
       "\n",
       "    .dataframe tbody tr th {\n",
       "        vertical-align: top;\n",
       "    }\n",
       "\n",
       "    .dataframe thead th {\n",
       "        text-align: right;\n",
       "    }\n",
       "</style>\n",
       "<table border=\"1\" class=\"dataframe\">\n",
       "  <thead>\n",
       "    <tr style=\"text-align: right;\">\n",
       "      <th></th>\n",
       "      <th>Total Count</th>\n",
       "      <th>Percentage of Players</th>\n",
       "    </tr>\n",
       "    <tr>\n",
       "      <th>Age</th>\n",
       "      <th></th>\n",
       "      <th></th>\n",
       "    </tr>\n",
       "  </thead>\n",
       "  <tbody>\n",
       "    <tr>\n",
       "      <td>&lt;10</td>\n",
       "      <td>24</td>\n",
       "      <td>4.17%</td>\n",
       "    </tr>\n",
       "    <tr>\n",
       "      <td>10-14</td>\n",
       "      <td>41</td>\n",
       "      <td>7.12%</td>\n",
       "    </tr>\n",
       "    <tr>\n",
       "      <td>15-19</td>\n",
       "      <td>150</td>\n",
       "      <td>26.04%</td>\n",
       "    </tr>\n",
       "    <tr>\n",
       "      <td>20-24</td>\n",
       "      <td>232</td>\n",
       "      <td>40.28%</td>\n",
       "    </tr>\n",
       "    <tr>\n",
       "      <td>25-29</td>\n",
       "      <td>59</td>\n",
       "      <td>10.24%</td>\n",
       "    </tr>\n",
       "    <tr>\n",
       "      <td>30-34</td>\n",
       "      <td>37</td>\n",
       "      <td>6.42%</td>\n",
       "    </tr>\n",
       "    <tr>\n",
       "      <td>35-39</td>\n",
       "      <td>26</td>\n",
       "      <td>4.51%</td>\n",
       "    </tr>\n",
       "    <tr>\n",
       "      <td>40+</td>\n",
       "      <td>7</td>\n",
       "      <td>1.22%</td>\n",
       "    </tr>\n",
       "  </tbody>\n",
       "</table>\n",
       "</div>"
      ],
      "text/plain": [
       "       Total Count Percentage of Players\n",
       "Age                                     \n",
       "<10             24                 4.17%\n",
       "10-14           41                 7.12%\n",
       "15-19          150                26.04%\n",
       "20-24          232                40.28%\n",
       "25-29           59                10.24%\n",
       "30-34           37                 6.42%\n",
       "35-39           26                 4.51%\n",
       "40+              7                 1.22%"
      ]
     },
     "execution_count": 21,
     "metadata": {},
     "output_type": "execute_result"
    }
   ],
   "source": [
    "# git push\n",
    "    # Establish bins for ages\n",
    "    # Categorize the existing players using the age bins. Hint: use pd.cut()\n",
    "    # Calculate the numbers and percentages by age group\n",
    "    # Create a summary data frame to hold the results\n",
    "        # Optional: round the percentage column to two decimal points\n",
    "        # Display Age Demographics Table\n",
    "#################################################################################\n",
    "#Purchase_Data_df3\n",
    "Purchase_Data_df3 = Purchase_Data_df.loc[:, [\"SN\", \"Age\"]]\n",
    "\n",
    "#Drop Duplicates\n",
    "remove_dup_SN = Purchase_Data_df3.drop_duplicates()\n",
    "\n",
    "\n",
    "# Create the bins in which Data will be held\n",
    "bins = [0, 10, 15, 20, 25, 30, 35, 40, 500]\n",
    "#print(len(bins))\n",
    "\n",
    "# Create the names for the bins\n",
    "age_groups = [\"<10\", \"10-14\", \"15-19\", \"20-24\", \"25-29\", \"30-34\", \"35-39\", \"40+\"]    \n",
    "#print(len(age_groups))\n",
    "\n",
    "# Creating a group based off of the bins\n",
    "remove_dup_SN[\"Age\"] = pd.cut(remove_dup_SN[\"Age\"], bins, labels=age_groups, include_lowest=True)\n",
    "\n",
    "grouped_age_count = remove_dup_SN.groupby([\"Age\"]).count()[\"SN\"].rename(\"Total Count\")\n",
    "percent_age_group = grouped_age_count / int(players_count) * 100\n",
    "percent_age_group\n",
    "\n",
    "# Initialize Dictionary of lists\n",
    "Grouped_Age = {'Total Count':grouped_age_count, 'Percentage of Players':percent_age_group}   \n",
    "\n",
    "# Create the Gender Demogrphics DataFrame\n",
    "Age_Demographics_df = pd.DataFrame(Grouped_Age)\n",
    "\n",
    "# Format data to $1,000.00\n",
    "Age_Demographics_df['Percentage of Players'] = Age_Demographics_df['Percentage of Players'].map(\"{:.2f}%\".format)\n",
    "\n",
    "#Show Data Frame\n",
    "Age_Demographics_df\n",
    "                     "
   ]
  },
  {
   "cell_type": "code",
   "execution_count": 22,
   "metadata": {},
   "outputs": [],
   "source": [
    "#Purchasing Analysis by (Age)\n",
    "    # Bin the purchase_data data frame by age\n",
    "    # Run basic calculations to obtain purchase count,\n",
    "    # avg. purchase price, avg. purchase total per person etc.\n",
    "    # Create a summary data frame to hold the results\n",
    "        # Optional: give the displayed data cleaner formatting\n",
    "        # Display the summary data frame\n",
    "#################################################################################\n",
    "        "
   ]
  },
  {
   "cell_type": "code",
   "execution_count": null,
   "metadata": {},
   "outputs": [],
   "source": [
    "# Top Spenders\n",
    "    # Run basic calculations to obtain the results in the table below\n",
    "    # Create a summary data frame to hold the results\n",
    "        # Sort the total purchase value column in descending order\n",
    "        # Optional: give the displayed data cleaner formatting\n",
    "        # Display a preview of the summary data frame\n",
    "################################################################################# "
   ]
  },
  {
   "cell_type": "code",
   "execution_count": null,
   "metadata": {},
   "outputs": [],
   "source": [
    "# Most Profitable Items\n",
    "    # Sort the above table by total purchase value in descending order\n",
    "        # Optional: give the displayed data cleaner formatting\n",
    "        # Display a preview of the data frame\n",
    "################################################################################# "
   ]
  }
 ],
 "metadata": {
  "kernelspec": {
   "display_name": "Python 3",
   "language": "python",
   "name": "python3"
  },
  "language_info": {
   "codemirror_mode": {
    "name": "ipython",
    "version": 3
   },
   "file_extension": ".py",
   "mimetype": "text/x-python",
   "name": "python",
   "nbconvert_exporter": "python",
   "pygments_lexer": "ipython3",
   "version": "3.7.4"
  }
 },
 "nbformat": 4,
 "nbformat_minor": 2
}
