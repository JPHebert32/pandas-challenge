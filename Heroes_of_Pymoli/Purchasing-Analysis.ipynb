{
 "cells": [
  {
   "cell_type": "code",
   "execution_count": 18,
   "metadata": {},
   "outputs": [],
   "source": [
    "# Dependencies and Setup\n",
    "import pandas as pd"
   ]
  },
  {
   "cell_type": "code",
   "execution_count": 19,
   "metadata": {},
   "outputs": [],
   "source": [
    "# File to Load (Remember to Change These)\n",
    "file_to_load = \"C:/Users/JPHeb/JPH-Data-Class/pandas-challenge/Heroes_of_Pymoli/Resources/purchase_data.csv\""
   ]
  },
  {
   "cell_type": "code",
   "execution_count": 20,
   "metadata": {},
   "outputs": [],
   "source": [
    "# Read Purchasing File and store into Pandas data frame\n",
    "purchase_data_df = pd.read_csv(file_to_load)"
   ]
  },
  {
   "cell_type": "code",
   "execution_count": 21,
   "metadata": {},
   "outputs": [
    {
     "data": {
      "text/html": [
       "<div>\n",
       "<style scoped>\n",
       "    .dataframe tbody tr th:only-of-type {\n",
       "        vertical-align: middle;\n",
       "    }\n",
       "\n",
       "    .dataframe tbody tr th {\n",
       "        vertical-align: top;\n",
       "    }\n",
       "\n",
       "    .dataframe thead th {\n",
       "        text-align: right;\n",
       "    }\n",
       "</style>\n",
       "<table border=\"1\" class=\"dataframe\">\n",
       "  <thead>\n",
       "    <tr style=\"text-align: right;\">\n",
       "      <th></th>\n",
       "      <th>Total Revenue</th>\n",
       "      <th>Total Number of Purchases</th>\n",
       "      <th>Average Purchase Price</th>\n",
       "      <th>Number of Unique Item</th>\n",
       "    </tr>\n",
       "  </thead>\n",
       "  <tbody>\n",
       "    <tr>\n",
       "      <td>0</td>\n",
       "      <td>$2,379.77</td>\n",
       "      <td>780</td>\n",
       "      <td>$3.05</td>\n",
       "      <td>179</td>\n",
       "    </tr>\n",
       "  </tbody>\n",
       "</table>\n",
       "</div>"
      ],
      "text/plain": [
       "  Total Revenue  Total Number of Purchases Average Purchase Price  \\\n",
       "0     $2,379.77                        780                  $3.05   \n",
       "\n",
       "   Number of Unique Item  \n",
       "0                    179  "
      ]
     },
     "execution_count": 21,
     "metadata": {},
     "output_type": "execute_result"
    }
   ],
   "source": [
    "# Number of Unique Items\n",
    "Item = purchase_data_df[\"Item ID\"].unique()\n",
    "Item_count = len(Item)\n",
    "#print(Item_count)\n",
    "\n",
    "# Average Purchase Price\n",
    "Avg_Pur_Price = purchase_data_df[\"Price\"].mean()\n",
    "#print(Avg_Pur_Price)\n",
    "\n",
    "# Total Number of Purchases\n",
    "Num_Purchases = purchase_data_df[\"Purchase ID\"].unique()\n",
    "#print(Num_Purchases)\n",
    "Total_Num_Purchases = len(Num_Purchases)\n",
    "#print(Total_Num_Purchases)\n",
    "\n",
    "# Total Revenue\n",
    "total = purchase_data_df[\"Price\"].sum()\n",
    "#total\n",
    "\n",
    "# Initialize Dictionary of lists\n",
    "Purchase_Analysis = {'Total Revenue': [total],\n",
    "                     'Total Number of Purchases':[Total_Num_Purchases],\n",
    "                     'Average Purchase Price':[Avg_Pur_Price],\n",
    "                     'Number of Unique Item': [Item_count]}\n",
    "\n",
    "# Create the Purchasing_Analysis DataFrame\n",
    "Purchase_Analysis_df = pd.DataFrame(Purchase_Analysis)\n",
    "#Format Average Purchase Price & Total Revenue\n",
    "Purchase_Analysis_df['Average Purchase Price'] = Purchase_Analysis_df['Average Purchase Price'].map(\"${:,.2f}\".format)\n",
    "Purchase_Analysis_df['Total Revenue'] = Purchase_Analysis_df['Total Revenue'].map(\"${:,.2f}\".format)\n",
    "Purchase_Analysis_df\n"
   ]
  }
 ],
 "metadata": {
  "kernelspec": {
   "display_name": "Python 3",
   "language": "python",
   "name": "python3"
  },
  "language_info": {
   "codemirror_mode": {
    "name": "ipython",
    "version": 3
   },
   "file_extension": ".py",
   "mimetype": "text/x-python",
   "name": "python",
   "nbconvert_exporter": "python",
   "pygments_lexer": "ipython3",
   "version": "3.7.4"
  }
 },
 "nbformat": 4,
 "nbformat_minor": 2
}
